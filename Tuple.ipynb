{
  "nbformat": 4,
  "nbformat_minor": 0,
  "metadata": {
    "colab": {
      "provenance": []
    },
    "kernelspec": {
      "name": "python3",
      "display_name": "Python 3"
    },
    "language_info": {
      "name": "python"
    }
  },
  "cells": [
    {
      "cell_type": "code",
      "source": [
        "#creating tuple\n",
        "mytuple=(\"apple\",\"orange\",\"banana\",\"cherry\")\n",
        "print(mytuple)\n"
      ],
      "metadata": {
        "colab": {
          "base_uri": "https://localhost:8080/"
        },
        "id": "oiWr2ZuIPog2",
        "outputId": "5696b4d3-03f3-41ec-88c1-d2ab1aa7c59f"
      },
      "execution_count": null,
      "outputs": [
        {
          "output_type": "stream",
          "name": "stdout",
          "text": [
            "('apple', 'orange', 'banana', 'cherry')\n"
          ]
        }
      ]
    },
    {
      "cell_type": "code",
      "source": [
        "#Tuple length\n",
        "mytuple=(\"apple\",\"orange\",\"banana\",\"cherry\")\n",
        "print(len(mytuple))\n"
      ],
      "metadata": {
        "colab": {
          "base_uri": "https://localhost:8080/"
        },
        "id": "k-dapfFiQuEm",
        "outputId": "79aa441e-c6d8-48be-fab6-06be4aed6bd8"
      },
      "execution_count": null,
      "outputs": [
        {
          "output_type": "stream",
          "name": "stdout",
          "text": [
            "4\n"
          ]
        }
      ]
    },
    {
      "cell_type": "code",
      "source": [
        "#checking type\n",
        "mytuple=(\"apple\",\"orange\",\"banana\",\"cherry\")\n",
        "print(type(mytuple))\n"
      ],
      "metadata": {
        "id": "kGbceLVKSzYh",
        "colab": {
          "base_uri": "https://localhost:8080/"
        },
        "outputId": "3bc3c853-c5e7-424e-b721-bb8b878171d7"
      },
      "execution_count": null,
      "outputs": [
        {
          "output_type": "stream",
          "name": "stdout",
          "text": [
            "<class 'tuple'>\n"
          ]
        }
      ]
    },
    {
      "cell_type": "code",
      "source": [
        "#tuple datatype\n",
        "mytuple=(\"abc\",34,True,40,\"male\")\n",
        "print(mytuple)\n",
        "print(type(mytuple))\n"
      ],
      "metadata": {
        "colab": {
          "base_uri": "https://localhost:8080/"
        },
        "id": "2BPXlWu-JzEN",
        "outputId": "07d8f829-99f6-45bc-8921-75f652aa5e15"
      },
      "execution_count": null,
      "outputs": [
        {
          "output_type": "stream",
          "name": "stdout",
          "text": [
            "('abc', 34, True, 40, 'male')\n",
            "<class 'tuple'>\n"
          ]
        }
      ]
    },
    {
      "cell_type": "code",
      "source": [
        "#format in tuple\n",
        "tuple=(2,\"abc\",34,True,40,\"male\")\n",
        "print(tuple)\n",
        "print(\"Your name is {} Your age is {},\".format(tuple[1],tuple[2]))\n"
      ],
      "metadata": {
        "id": "V6A1CuZzSzmG",
        "colab": {
          "base_uri": "https://localhost:8080/"
        },
        "outputId": "6905e2a5-83f2-4119-cb7a-0af241ff46fe"
      },
      "execution_count": null,
      "outputs": [
        {
          "output_type": "stream",
          "name": "stdout",
          "text": [
            "(2, 'abc', 34, True, 40, 'male')\n",
            "Your name is abc Your age is 34,\n"
          ]
        }
      ]
    },
    {
      "cell_type": "code",
      "source": [
        "#format in tuple using {} with value\n",
        "tuple1=(2,\"abc\",34,True,43,\"male\")\n",
        "print(\"Your name is {0} Your age is {1}\".format(tuple1[1],tuple1[2]))\n"
      ],
      "metadata": {
        "colab": {
          "base_uri": "https://localhost:8080/"
        },
        "id": "FDv-CxFpQng4",
        "outputId": "2911d6b7-3f4a-47cd-eb1b-75d316306233"
      },
      "execution_count": null,
      "outputs": [
        {
          "output_type": "stream",
          "name": "stdout",
          "text": [
            "Your name is abc Your age is 34\n"
          ]
        }
      ]
    },
    {
      "cell_type": "code",
      "source": [
        "#tuple constructor using keyword\n",
        "tuple1=[2,\"abc\",34,True,40,\"male\"]\n",
        "tuple1=tuple(tuple1)\n",
        "print(type(tuple1))\n"
      ],
      "metadata": {
        "colab": {
          "base_uri": "https://localhost:8080/"
        },
        "id": "kWGd_im71SRR",
        "outputId": "b09865a6-de9d-48df-83e5-386f81f940a6"
      },
      "execution_count": null,
      "outputs": [
        {
          "output_type": "stream",
          "name": "stdout",
          "text": [
            "<class 'tuple'>\n"
          ]
        }
      ]
    },
    {
      "cell_type": "code",
      "source": [
        "#Access tuple\n",
        "mytuple=(\"apple\",\"orange\")\n",
        "print(mytuple[1])\n"
      ],
      "metadata": {
        "colab": {
          "base_uri": "https://localhost:8080/"
        },
        "id": "lykxCSym2JtI",
        "outputId": "8e5f9307-8a48-4e2f-a2e0-030bf7a3b857"
      },
      "execution_count": null,
      "outputs": [
        {
          "output_type": "stream",
          "name": "stdout",
          "text": [
            "orange\n"
          ]
        }
      ]
    },
    {
      "cell_type": "code",
      "source": [
        "#Indexing (positive and negative)\n",
        "mytuple=(\"apple\",\"orange\",\"banana\",\"cherry\")\n",
        "print(mytuple[1:3])\n",
        "print(mytuple[2:4])\n",
        "print(mytuple[:-3])\n",
        "print(mytuple[-2:])"
      ],
      "metadata": {
        "colab": {
          "base_uri": "https://localhost:8080/"
        },
        "id": "wxECjqrX2m0A",
        "outputId": "e56ff219-2e1f-4aa2-a6cb-9dcc6aca6faa"
      },
      "execution_count": null,
      "outputs": [
        {
          "output_type": "stream",
          "name": "stdout",
          "text": [
            "('orange', 'banana')\n",
            "('banana', 'cherry')\n",
            "('apple',)\n",
            "('banana', 'cherry')\n"
          ]
        }
      ]
    },
    {
      "cell_type": "code",
      "source": [
        "#check if item exists in tuple\n",
        "mytuple=(\"apple\",\"orange\",\"banana\",\"cherry\")\n",
        "if 'orange' in mytuple:\n",
        "  print('Yes its there')\n",
        "else:\n",
        "  print(\"No its not there\")\n",
        "\n",
        "\n"
      ],
      "metadata": {
        "colab": {
          "base_uri": "https://localhost:8080/"
        },
        "id": "NqX2VWVB6C8M",
        "outputId": "110434b5-182e-4897-a1ce-9af01e7fc745"
      },
      "execution_count": 1,
      "outputs": [
        {
          "output_type": "stream",
          "name": "stdout",
          "text": [
            "Yes its there\n"
          ]
        }
      ]
    },
    {
      "cell_type": "code",
      "source": [
        "#check if item not exists in tuple\n",
        "\n",
        "mytuple=(\"apple\",\"orange\",\"banana\",\"cherry\")\n",
        "if '' in mytuple:\n",
        "  print('Yes its there')\n",
        "else:\n",
        "  print(\"No its not there\")"
      ],
      "metadata": {
        "colab": {
          "base_uri": "https://localhost:8080/"
        },
        "id": "_f7upQQtB6kp",
        "outputId": "01a47524-64d8-4033-f2f5-3315c695633b"
      },
      "execution_count": 3,
      "outputs": [
        {
          "output_type": "stream",
          "name": "stdout",
          "text": [
            "No its not there\n"
          ]
        }
      ]
    },
    {
      "cell_type": "code",
      "source": [
        "#Change tuple value using list in tuple\n",
        "mytuple=(\"apple\",\"orange\",\"banana\",\"cherry\")\n",
        "mylist=list(mytuple)\n",
        "mylist[2]=\"grapes\"\n",
        "tuple2=tuple(mylist)\n",
        "print(tuple2)\n"
      ],
      "metadata": {
        "id": "mN9pQ-cx7Oj8",
        "colab": {
          "base_uri": "https://localhost:8080/"
        },
        "outputId": "8295e405-2139-4ab2-93b1-07eef0d350e5"
      },
      "execution_count": 9,
      "outputs": [
        {
          "output_type": "stream",
          "name": "stdout",
          "text": [
            "('apple', 'orange', 'grapes', 'cherry')\n"
          ]
        }
      ]
    },
    {
      "cell_type": "code",
      "source": [
        "#Add single item using append in tuple\n",
        "thistuple=(\"apple\",\"orange\",\"banana\",\"cherry\")\n",
        "y=list(mytuple)\n",
        "y.append(\"grapes\")\n",
        "mytuple=tuple(y)\n",
        "print(mytuple)\n"
      ],
      "metadata": {
        "colab": {
          "base_uri": "https://localhost:8080/"
        },
        "id": "kQXdii5mCvoR",
        "outputId": "5cde400a-d508-4781-a2dc-ef89f3095b5d"
      },
      "execution_count": 23,
      "outputs": [
        {
          "output_type": "stream",
          "name": "stdout",
          "text": [
            "('apple', 'banana', 'cherry', 'grapes', 'grapes', 'grapes', 'grapes', 'grapes')\n"
          ]
        }
      ]
    },
    {
      "cell_type": "code",
      "source": [
        "#Adding items using operators\n",
        "thistuple=(\"apple\",\"orange\",\"banana\",\"cherry\")\n",
        "y=(\"grapes\",)         #must use comma(,) when adding single in tuple\n",
        "thistuple+=y\n",
        "print(thistuple)\n",
        "\n"
      ],
      "metadata": {
        "colab": {
          "base_uri": "https://localhost:8080/"
        },
        "outputId": "35608de3-67fa-4556-f03a-df88918ae355",
        "id": "jBd6VhiMC7Jt"
      },
      "execution_count": 16,
      "outputs": [
        {
          "output_type": "stream",
          "name": "stdout",
          "text": [
            "('apple', 'orange', 'banana', 'cherry', 'grapes')\n"
          ]
        }
      ]
    },
    {
      "cell_type": "code",
      "source": [
        "#remove items in tuple\n",
        "thistuple=(\"apple\",\"orange\",\"banana\",\"cherry\")\n",
        "y=list(mytuple)\n",
        "y.remove(\"orange\")\n",
        "mytuple=tuple(y)\n",
        "print(mytuple)\n"
      ],
      "metadata": {
        "colab": {
          "base_uri": "https://localhost:8080/"
        },
        "id": "Na_-bv0TFc7R",
        "outputId": "f4fc64d3-dc31-49fb-c0b8-7b6d89ac04bc"
      },
      "execution_count": 18,
      "outputs": [
        {
          "output_type": "stream",
          "name": "stdout",
          "text": [
            "('apple', 'banana', 'cherry')\n"
          ]
        }
      ]
    },
    {
      "cell_type": "code",
      "source": [
        "#del item in tuple\n",
        "thistuple=(\"apple\",\"orange\",\"banana\",\"cherry\")\n",
        "print(thistuple)\n",
        "del thistuple\n",
        "#print(thistuple)\n"
      ],
      "metadata": {
        "colab": {
          "base_uri": "https://localhost:8080/"
        },
        "id": "X2zANI8oGwq9",
        "outputId": "d5131ba2-8f86-41a4-b3c5-8c22f68bb9f2"
      },
      "execution_count": 25,
      "outputs": [
        {
          "output_type": "stream",
          "name": "stdout",
          "text": [
            "('apple', 'orange', 'banana', 'cherry')\n"
          ]
        }
      ]
    },
    {
      "cell_type": "code",
      "source": [
        "#del item in tuple\n",
        "thistuple=(\"apple\",\"orange\",\"banana\",\"cherry\")\n",
        "print(thistuple)\n",
        "del thistuple\n",
        "print(thistuple)\n"
      ],
      "metadata": {
        "colab": {
          "base_uri": "https://localhost:8080/",
          "height": 193
        },
        "id": "snUse0eXHJ44",
        "outputId": "28a19444-c7d1-4925-a71b-44cedda27d94"
      },
      "execution_count": 26,
      "outputs": [
        {
          "output_type": "stream",
          "name": "stdout",
          "text": [
            "('apple', 'orange', 'banana', 'cherry')\n"
          ]
        },
        {
          "output_type": "error",
          "ename": "NameError",
          "evalue": "name 'thistuple' is not defined",
          "traceback": [
            "\u001b[0;31m---------------------------------------------------------------------------\u001b[0m",
            "\u001b[0;31mNameError\u001b[0m                                 Traceback (most recent call last)",
            "\u001b[0;32m<ipython-input-26-9dea59a51324>\u001b[0m in \u001b[0;36m<cell line: 5>\u001b[0;34m()\u001b[0m\n\u001b[1;32m      3\u001b[0m \u001b[0mprint\u001b[0m\u001b[0;34m(\u001b[0m\u001b[0mthistuple\u001b[0m\u001b[0;34m)\u001b[0m\u001b[0;34m\u001b[0m\u001b[0;34m\u001b[0m\u001b[0m\n\u001b[1;32m      4\u001b[0m \u001b[0;32mdel\u001b[0m \u001b[0mthistuple\u001b[0m\u001b[0;34m\u001b[0m\u001b[0;34m\u001b[0m\u001b[0m\n\u001b[0;32m----> 5\u001b[0;31m \u001b[0mprint\u001b[0m\u001b[0;34m(\u001b[0m\u001b[0mthistuple\u001b[0m\u001b[0;34m)\u001b[0m\u001b[0;34m\u001b[0m\u001b[0;34m\u001b[0m\u001b[0m\n\u001b[0m",
            "\u001b[0;31mNameError\u001b[0m: name 'thistuple' is not defined"
          ]
        }
      ]
    },
    {
      "cell_type": "code",
      "source": [
        "#unpacking tuple without using loop\n",
        "fruits=(\"apple\",\"orange\",\"banana\") #must be equal items here\n",
        "(red,orange,yellow)=fruits         #must be equal items here\n",
        "print(red)\n",
        "print(orange)\n",
        "print(yellow)\n"
      ],
      "metadata": {
        "colab": {
          "base_uri": "https://localhost:8080/"
        },
        "id": "l_yr0aUmHO7e",
        "outputId": "a419d2d5-1d64-44d5-fab8-71823c241177"
      },
      "execution_count": 32,
      "outputs": [
        {
          "output_type": "stream",
          "name": "stdout",
          "text": [
            "apple\n",
            "orange\n",
            "banana\n"
          ]
        }
      ]
    },
    {
      "cell_type": "code",
      "source": [
        "#Using Asterisk in tuple\n",
        "fruits=(\"apple\",\"orange\",\"banana\") #must be equal items here\n",
        "(red,orange,*yellow)=fruits         #must be equal items here\n",
        "print(red)\n",
        "print(orange)\n",
        "print(yellow)\n"
      ],
      "metadata": {
        "colab": {
          "base_uri": "https://localhost:8080/"
        },
        "id": "kCTSACeOJX_M",
        "outputId": "6228ab5a-51aa-4dbd-b4a1-ed1b22f0c68c"
      },
      "execution_count": 33,
      "outputs": [
        {
          "output_type": "stream",
          "name": "stdout",
          "text": [
            "apple\n",
            "orange\n",
            "['banana']\n"
          ]
        }
      ]
    },
    {
      "cell_type": "code",
      "source": [
        "#Using Asterisk in tuple\n",
        "fruits=(\"apple\",\"orange\",\"banana\",\"grapes\",\"cherry\") #we can use more items here\n",
        "(red,*tropic,red)=fruits\n",
        "print(red)\n",
        "print(tropic)\n",
        "print(yellow)\n"
      ],
      "metadata": {
        "colab": {
          "base_uri": "https://localhost:8080/"
        },
        "id": "GjsYGUERKBbk",
        "outputId": "633733eb-8333-4226-8850-7090ba62fb7a"
      },
      "execution_count": 41,
      "outputs": [
        {
          "output_type": "stream",
          "name": "stdout",
          "text": [
            "cherry\n",
            "['orange', 'banana', 'grapes']\n",
            "cherry\n"
          ]
        }
      ]
    },
    {
      "cell_type": "code",
      "source": [
        "#using for loop in tuple\n",
        "fruits=(\"apple\",\"orange\",\"banana\")\n",
        "for x in fruits:\n",
        "  print(x)"
      ],
      "metadata": {
        "colab": {
          "base_uri": "https://localhost:8080/"
        },
        "id": "cysPknGzK_Zb",
        "outputId": "4c48bbc5-ceae-455d-d95c-56798df9df86"
      },
      "execution_count": 40,
      "outputs": [
        {
          "output_type": "stream",
          "name": "stdout",
          "text": [
            "apple\n",
            "orange\n",
            "banana\n"
          ]
        }
      ]
    },
    {
      "cell_type": "code",
      "source": [
        "#using for loop in tuple with index numbers\n",
        "fruits=(\"apple\",\"orange\",\"banana\")\n",
        "for x in range(len(fruits)):\n",
        "  print(fruits[x])\n",
        "print(len(fruits))\n"
      ],
      "metadata": {
        "colab": {
          "base_uri": "https://localhost:8080/"
        },
        "id": "rgqQTHJfLzXV",
        "outputId": "99ce3a5d-f20f-49a5-c611-e915b0698b92"
      },
      "execution_count": 46,
      "outputs": [
        {
          "output_type": "stream",
          "name": "stdout",
          "text": [
            "apple\n",
            "orange\n",
            "banana\n",
            "3\n"
          ]
        }
      ]
    },
    {
      "cell_type": "code",
      "source": [
        "#using while loop in tuple\n",
        "fruits=(\"apple\",\"orange\",\"banana\")\n",
        "x=0\n",
        "while x<len(fruits):\n",
        "  print(fruits[x])\n",
        "  x=x+1"
      ],
      "metadata": {
        "colab": {
          "base_uri": "https://localhost:8080/"
        },
        "id": "2g5CCmhjMqu7",
        "outputId": "75a49557-0d1f-4298-d683-deb61acbde85"
      },
      "execution_count": 47,
      "outputs": [
        {
          "output_type": "stream",
          "name": "stdout",
          "text": [
            "apple\n",
            "orange\n",
            "banana\n"
          ]
        }
      ]
    },
    {
      "cell_type": "code",
      "source": [
        "#Joining two tuples\n",
        "tuple1=(\"apple\",\"orange\",\"banana\")\n",
        "tuple2=(1,2,3)\n",
        "tuple3=tuple1+tuple2\n",
        "print(tuple3)\n"
      ],
      "metadata": {
        "colab": {
          "base_uri": "https://localhost:8080/"
        },
        "id": "Kpibq2cYNMmU",
        "outputId": "90f24bf3-8044-4e9d-bc06-ed8fe154566b"
      },
      "execution_count": 50,
      "outputs": [
        {
          "output_type": "stream",
          "name": "stdout",
          "text": [
            "('apple', 'orange', 'banana', 1, 2, 3)\n"
          ]
        }
      ]
    },
    {
      "cell_type": "code",
      "source": [
        "#Multiple the fruits by 2\n",
        "fruits=(\"apple\",\"orange\",\"banana\")\n",
        "mytuple=fruits*3\n",
        "print(mytuple)"
      ],
      "metadata": {
        "colab": {
          "base_uri": "https://localhost:8080/"
        },
        "id": "DbiI2MY9Nz9_",
        "outputId": "da58e946-0da9-486f-e9ae-d1137dd49992"
      },
      "execution_count": 53,
      "outputs": [
        {
          "output_type": "stream",
          "name": "stdout",
          "text": [
            "('apple', 'orange', 'banana', 'apple', 'orange', 'banana', 'apple', 'orange', 'banana')\n"
          ]
        }
      ]
    },
    {
      "cell_type": "code",
      "source": [],
      "metadata": {
        "id": "5mEgc5V5N0Bt"
      },
      "execution_count": null,
      "outputs": []
    }
  ]
}